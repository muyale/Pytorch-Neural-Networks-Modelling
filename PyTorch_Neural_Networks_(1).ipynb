{
  "cells": [
    {
      "cell_type": "markdown",
      "id": "98077284",
      "metadata": {
        "id": "98077284"
      },
      "source": [
        "#  Pytorch  Neural Network Modelling\n",
        "#What is Pytorch ?\n",
        "\n",
        "\n",
        "![AI%20ML.jpeg](attachment:AI%20ML.jpeg)\n",
        "\n",
        "\n",
        "\n",
        "### ABOUT NOTEBOOK\n",
        "\n",
        "This notebook covers the following sections:\n",
        "\n",
        "1. **Linear Models**: A simple linear regression example using synthetic data.\n",
        "2. **Recurrent Neural Networks (RNNs)**: A basic RNN for time series prediction using synthetic sine wave data.\n",
        "3. **Long Short-Term Memory Networks (LSTMs)**: An LSTM for time series prediction using synthetic sine wave data.\n",
        "4. **Gated Recurrent Units (GRUs)**: A GRU for time series prediction using synthetic sine wave data.\n",
        "5. **Convolutional Neural Networks (CNNs)**: A CNN for image classification using the MNIST dataset.\n",
        "\n",
        "Each section includes the following components:\n",
        "- **Model Definition**: Detailed description of the model architecture and components.\n",
        "- **Data Generation/Preprocessing**: Steps for generating and preprocessing the data used for training and testing the models.\n",
        "- **Training Loop**: The process of training the models, including loss computation and optimization.\n",
        "- **Testing/Validation**: Evaluation of the models on test data to assess their performance.\n",
        "- **Visualization (where applicable)**: Visual representation of the results to aid in understanding the model's performance and behavior.\n",
        "\n"
      ]
    },
    {
      "cell_type": "code",
      "execution_count": 1,
      "id": "f49f4b66",
      "metadata": {
        "id": "f49f4b66"
      },
      "outputs": [],
      "source": [
        "# Import necessary libraries\n",
        "import torch\n",
        "import torch.nn as nn\n",
        "import torch.optim as optim\n",
        "import numpy as np\n",
        "import matplotlib.pyplot as plt\n",
        "\n",
        "# Helper function for generating synthetic data\n",
        "def generate_data(seq_length):\n",
        "    time_series = np.sin(np.linspace(0, 100, seq_length))\n",
        "    data = []\n",
        "    for i in range(len(time_series) - 1):\n",
        "        data.append((time_series[i:i+1], time_series[i+1]))\n",
        "    return data\n",
        "\n",
        "# Helper function for plotting results\n",
        "def plot_results(predicted, actual, title):\n",
        "    plt.figure(figsize=(10, 5))\n",
        "    plt.plot(predicted, label='Predicted')\n",
        "    plt.plot(actual, label='Actual')\n",
        "    plt.title(title)\n",
        "    plt.legend()\n",
        "    plt.show()"
      ]
    },
    {
      "cell_type": "markdown",
      "id": "2b932d84",
      "metadata": {
        "id": "2b932d84"
      },
      "source": [
        "# LINEAR MODELS\n",
        "\n",
        "**Linear Models**:\n",
        "Linear models are the simplest type of predictive model, where the relationship between the input variables and the output is assumed to be linear. The most common linear model is linear regression.\n",
        "\n",
        "#### How Linear Models Work:\n",
        "In a linear model, the output \\( y \\) is calculated as a weighted sum of the inputs \\( x \\), plus a bias term:\n",
        "$\\[ y = w_1x_1 + w_2x_2 + \\cdots + w_nx_n + b \\]$\n",
        "where \\( w_i \\) are the weights and \\( b \\) is the bias. The model parameters (weights and bias) are typically learned using optimization algorithms such as gradient descent, which minimizes a loss function like mean squared error (MSE).\n",
        "\n",
        "#### Use Cases of Linear Models:\n",
        "Linear models are widely used in various fields due to their simplicity and interpretability. Some common use cases include:\n",
        "- **Regression Analysis**: Predicting continuous outcomes, such as house prices, sales forecasts, and medical measurements.\n",
        "- **Classification**: Logistic regression, a type of linear model, is used for binary classification tasks such as spam detection and disease diagnosis.\n",
        "- **Econometrics**: Analyzing economic data to understand relationships between variables, such as the impact of interest rates on investment.\n",
        "- **Engineering**: Modeling physical systems where relationships between variables are approximately linear.\n",
        "\n"
      ]
    },
    {
      "cell_type": "code",
      "execution_count": 2,
      "id": "ddc00328",
      "metadata": {
        "id": "ddc00328"
      },
      "outputs": [],
      "source": [
        "\n",
        "# Sample code for Linear Models\n",
        "class LinearModel(nn.Module):\n",
        "    def __init__(self, input_size, output_size):\n",
        "        super(LinearModel, self).__init__()\n",
        "        self.linear = nn.Linear(input_size, output_size)\n",
        "\n",
        "    def forward(self, x):\n",
        "        return self.linear(x)\n",
        "\n",
        "def train_linear_model():\n",
        "    # Generate synthetic data\n",
        "    x_train = torch.randn(100, 1)\n",
        "    y_train = 3 * x_train + 2 + 0.2 * torch.randn(100, 1)\n",
        "\n",
        "    # Model, loss, optimizer\n",
        "    model = LinearModel(1, 1)\n",
        "    criterion = nn.MSELoss()\n",
        "    optimizer = optim.SGD(model.parameters(), lr=0.01)\n",
        "\n",
        "    # Training loop\n",
        "    for epoch in range(100):\n",
        "        model.train()\n",
        "        optimizer.zero_grad()\n",
        "        outputs = model(x_train)\n",
        "        loss = criterion(outputs, y_train)\n",
        "        loss.backward()\n",
        "        optimizer.step()\n",
        "\n",
        "    print('Linear Model Training Completed')\n",
        "\n",
        "    # Plotting results\n",
        "    with torch.no_grad():\n",
        "        predicted = model(x_train).numpy()\n",
        "        actual = y_train.numpy()\n",
        "        plot_results(predicted, actual, 'Linear Model Results')"
      ]
    },
    {
      "cell_type": "code",
      "execution_count": 3,
      "id": "be347c80",
      "metadata": {
        "colab": {
          "base_uri": "https://localhost:8080/",
          "height": 485
        },
        "id": "be347c80",
        "outputId": "f3df594f-c42a-422e-ebd8-3a332b1dbf6f"
      },
      "outputs": [
        {
          "output_type": "stream",
          "name": "stdout",
          "text": [
            "Linear Model Training Completed\n"
          ]
        },
        {
          "output_type": "display_data",
          "data": {
            "text/plain": [
              "<Figure size 1000x500 with 1 Axes>"
            ],
            "image/png": "[encoded data removed]"
          },
          "metadata": {}
        }
      ],
      "source": [
        "train_linear_model()"
      ]
    },
    {
      "cell_type": "markdown",
      "id": "2017043f",
      "metadata": {
        "id": "2017043f"
      },
      "source": [
        "# RECURRENT NEURAL NETWORKS\n",
        "\n",
        "\n",
        "**Recurrent Neural Networks (RNNs)**:\n",
        "RNNs are a type of neural network designed to recognize patterns in sequences of data, such as time series, speech, and text. They use loops within the network to maintain information in what’s called the \"hidden state,\" allowing them to capture temporal dynamics.\n",
        "\n",
        "#### How RNNs Work:\n",
        "In an RNN, the output from the previous time step is fed back into the network along with the current input. This feedback loop allows RNNs to maintain a memory\n",
        "\n",
        "of previous inputs, enabling them to process sequences of data. The key components of an RNN are:\n",
        "\n",
        "1. **Input Layer**: Takes the input data at each time step.\n",
        "2. **Hidden Layer**: Maintains the hidden state, which captures information from previous time steps.\n",
        "3. **Output Layer**: Produces the output at each time step.\n",
        "\n",
        "The hidden state is updated at each time step using the current input and the previous hidden state, typically using an activation function like tanh or ReLU.\n",
        "\n",
        "#### Use Cases of RNNs:\n",
        "RNNs are versatile and can be applied to various sequence prediction and generation tasks. Some common use cases include:\n",
        "- **Time Series Prediction**: Predicting future values in a sequence, such as stock prices or weather data.\n",
        "- **Natural Language Processing (NLP)**: Tasks such as language modeling, text generation, machine translation, sentiment analysis, and speech recognition.\n",
        "- **Music Generation**: Composing music by predicting the next note or chord in a sequence.\n",
        "- **Video Analysis**: Understanding sequences of video frames for tasks such as activity recognition and video captioning.\n"
      ]
    },
    {
      "cell_type": "code",
      "execution_count": 4,
      "id": "dd70e9b3",
      "metadata": {
        "id": "dd70e9b3"
      },
      "outputs": [],
      "source": [
        "#Sample code for an RNN model\n",
        "class RNNModel(nn.Module):\n",
        "    def __init__(self, input_size, hidden_size, output_size):\n",
        "        super(RNNModel, self).__init__()\n",
        "        self.hidden_size = hidden_size\n",
        "        self.rnn = nn.RNN(input_size, hidden_size, batch_first=True)\n",
        "        self.linear = nn.Linear(hidden_size, output_size)\n",
        "\n",
        "    def forward(self, x):\n",
        "        h0 = torch.zeros(1, x.size(0), self.hidden_size)\n",
        "        out, _ = self.rnn(x, h0)\n",
        "        out = self.linear(out[:, -1, :])\n",
        "        return out\n",
        "\n",
        "def train_rnn_model():\n",
        "    # Generate synthetic data\n",
        "    data = generate_data(100)\n",
        "    data = [(torch.tensor(x, dtype=torch.float32).unsqueeze(0),\n",
        "             torch.tensor(y, dtype=torch.float32).unsqueeze(0))\n",
        "            for x, y in data]\n",
        "    dataloader = torch.utils.data.DataLoader(data, batch_size=1, shuffle=True)\n",
        "\n",
        "    # Model, loss, optimizer\n",
        "    model = RNNModel(1, 50, 1)\n",
        "    criterion = nn.MSELoss()\n",
        "    optimizer = optim.Adam(model.parameters(), lr=0.001)\n",
        "\n",
        "    # Training loop\n",
        "    for epoch in range(100):\n",
        "        for seq, target in dataloader:\n",
        "            optimizer.zero_grad()\n",
        "            output = model(seq)\n",
        "            loss = criterion(output, target)\n",
        "            loss.backward()\n",
        "            optimizer.step()\n",
        "\n",
        "    print('RNN Model Training Completed')\n",
        "\n",
        "    # Testing the model\n",
        "    test_seq = torch.tensor(np.sin(np.linspace(0, 100, 100)), dtype=torch.float32).unsqueeze(0).unsqueeze(2)\n",
        "    with torch.no_grad():\n",
        "        test_output = model(test_seq)\n",
        "    print(f'RNN Predicted next value: {test_output.item():.4f}')"
      ]
    },
    {
      "cell_type": "code",
      "execution_count": 5,
      "id": "eb018c96",
      "metadata": {
        "colab": {
          "base_uri": "https://localhost:8080/"
        },
        "id": "eb018c96",
        "outputId": "6a0ae1e9-0387-4a95-c619-4b8cadd2cc1d"
      },
      "outputs": [
        {
          "output_type": "stream",
          "name": "stdout",
          "text": [
            "RNN Model Training Completed\n",
            "RNN Predicted next value: -0.2637\n"
          ]
        }
      ],
      "source": [
        "train_rnn_model()"
      ]
    },
    {
      "cell_type": "markdown",
      "id": "7fa31f35",
      "metadata": {
        "id": "7fa31f35"
      },
      "source": [
        "# LONG SHORT  MEMORY NETWORKS\n",
        "\n",
        "\n",
        "**Long Short-Term Memory Networks (LSTMs)**:\n",
        "LSTMs are a type of recurrent neural network (RNN) architecture that is specifically designed to avoid the long-term dependency problem, which standard RNNs suffer from. They were introduced by Hochreiter and Schmidhuber in 1997 and have been refined and popularized since then.\n",
        "\n",
        "#### How LSTMs Work:\n",
        "LSTMs work by introducing a memory cell and three types of gates (input gate, forget gate, and output gate) to control the flow of information. Here’s a breakdown of these components:\n",
        "\n",
        "1. **Memory Cell**: This cell stores values over arbitrary time intervals. The LSTM can read from, write to, and erase information from the cell, controlled by the gates.\n",
        "2. **Input Gate**: Controls how much of the new information flows into the memory cell.\n",
        "3. **Forget Gate**: Controls how much of the past information to forget.\n",
        "4. **Output Gate**: Controls how much of the information from the memory cell is used to compute the output of the LSTM unit.\n",
        "\n",
        "Each gate is a neural network layer with its weights, biases, and activation functions. They use the sigmoid function to output a value between 0 and 1, determining how much information to pass through.\n",
        "\n",
        "#### Use Cases of LSTMs:\n",
        "LSTMs are widely used in various sequence prediction problems due to their ability to remember long-term dependencies. Some common use cases include:\n",
        "- **Time Series Forecasting**: Predicting stock prices, weather conditions, and other time-dependent data.\n",
        "- **Natural Language Processing (NLP)**: Language modeling, text generation, machine translation, and speech recognition.\n",
        "- **Anomaly Detection**: Identifying unusual patterns in data, which is useful in fraud detection and system monitoring.\n",
        "- **Video Analysis**: Understanding sequences of video frames for tasks such as activity recognition and video captioning.\n"
      ]
    },
    {
      "cell_type": "code",
      "execution_count": 6,
      "id": "c5548616",
      "metadata": {
        "id": "c5548616"
      },
      "outputs": [],
      "source": [
        "#Sample code for an LSTM model\n",
        "\n",
        "class LSTMModel(nn.Module):\n",
        "    def __init__(self, input_size, hidden_size, output_size):\n",
        "        super(LSTMModel, self).__init__()\n",
        "        self.hidden_size = hidden_size\n",
        "        self.lstm = nn.LSTM(input_size, hidden_size, batch_first=True)\n",
        "        self.linear = nn.Linear(hidden_size, output_size)\n",
        "\n",
        "    def forward(self, x):\n",
        "        h0 = torch.zeros(1, x.size(0), self.hidden_size)\n",
        "        c0 = torch.zeros(1, x.size(0), self.hidden_size)\n",
        "        out, _ = self.lstm(x, (h0, c0))\n",
        "        out = self.linear(out[:, -1, :])\n",
        "        return out\n",
        "\n",
        "def train_lstm_model():\n",
        "    # Generate synthetic data\n",
        "    data = generate_data(100)\n",
        "    data = [(torch.tensor(x, dtype=torch.float32).unsqueeze(0),\n",
        "             torch.tensor(y, dtype=torch.float32).unsqueeze(0))\n",
        "            for x, y in data]\n",
        "    dataloader = torch.utils.data.DataLoader(data, batch_size=1, shuffle=True)\n",
        "\n",
        "    # Model, loss, optimizer\n",
        "    model = LSTMModel(1, 50, 1)\n",
        "    criterion = nn.MSELoss()\n",
        "    optimizer = optim.Adam(model.parameters(), lr=0.001)\n",
        "\n",
        "    # Training loop\n",
        "    for epoch in range(100):\n",
        "        for seq, target in dataloader:\n",
        "            optimizer.zero_grad()\n",
        "            output = model(seq)\n",
        "            loss = criterion(output, target)\n",
        "            loss.backward()\n",
        "            optimizer.step()\n",
        "\n",
        "    print('LSTM Model Training Completed')\n",
        "\n",
        "    # Testing the model\n",
        "    test_seq = torch.tensor(np.sin(np.linspace(0, 100, 100)), dtype=torch.float32).unsqueeze(0).unsqueeze(2)\n",
        "    with torch.no_grad():\n",
        "        test_output = model(test_seq)\n",
        "    print(f'LSTM Predicted next value: {test_output.item():.4f}')"
      ]
    },
    {
      "cell_type": "code",
      "execution_count": 7,
      "id": "17c9c62b",
      "metadata": {
        "colab": {
          "base_uri": "https://localhost:8080/"
        },
        "id": "17c9c62b",
        "outputId": "010b67c4-cc05-4704-a3e9-466f68619c5f"
      },
      "outputs": [
        {
          "output_type": "stream",
          "name": "stdout",
          "text": [
            "LSTM Model Training Completed\n",
            "LSTM Predicted next value: -0.6323\n"
          ]
        }
      ],
      "source": [
        "train_lstm_model()"
      ]
    },
    {
      "cell_type": "markdown",
      "id": "3c96bdf6",
      "metadata": {
        "id": "3c96bdf6"
      },
      "source": [
        "# GATED RECURRENT UNITS"
      ]
    },
    {
      "cell_type": "markdown",
      "id": "191a9277",
      "metadata": {
        "id": "191a9277"
      },
      "source": [
        "\n",
        "\n",
        "**Gated Recurrent Units (GRUs)**:\n",
        "GRUs are a type of recurrent neural network (RNN) architecture introduced by Cho et al. in 2014. They are similar to LSTMs but with a simplified structure, making them computationally more efficient.\n",
        "\n",
        "#### How GRUs Work:\n",
        "GRUs use two gates (reset gate and update gate) to control the flow of information:\n",
        "\n",
        "1. **Reset Gate**: Determines how much of the previous hidden state to forget.\n",
        "2. **Update Gate**: Controls how much of the new information to store in the current hidden state.\n",
        "\n",
        "Unlike LSTMs, GRUs do not have a separate memory cell; instead, they directly operate on the hidden state. This simplicity can lead to faster training and inference times.\n",
        "\n",
        "#### Use Cases of GRUs:\n",
        "GRUs are used in similar applications as LSTMs, particularly when computational efficiency is important. Some common use cases include:\n",
        "- **Time Series Prediction**: Forecasting future values in sequences such as stock prices and weather data.\n",
        "- **Natural Language Processing (NLP)**: Language modeling, text generation, machine translation, and speech recognition.\n",
        "- **Anomaly Detection**: Identifying unusual patterns in data for fraud detection and system monitoring.\n",
        "- **Video Analysis**: Understanding sequences of video frames for tasks such as activity recognition and video captioning."
      ]
    },
    {
      "cell_type": "code",
      "execution_count": 8,
      "id": "9d8fcaae",
      "metadata": {
        "id": "9d8fcaae"
      },
      "outputs": [],
      "source": [
        "#Sample code for an GRU  model\n",
        "class GRUModel(nn.Module):\n",
        "    def __init__(self, input_size, hidden_size, output_size):\n",
        "        super(GRUModel, self).__init__()\n",
        "        self.hidden_size = hidden_size\n",
        "        self.gru = nn.GRU(input_size, hidden_size, batch_first=True)\n",
        "        self.linear = nn.Linear(hidden_size, output_size)\n",
        "\n",
        "    def forward(self, x):\n",
        "        h0 = torch.zeros(1, x.size(0), self.hidden_size)\n",
        "        out, _ = self.gru(x, h0)\n",
        "        out = self.linear(out[:, -1, :])\n",
        "        return out\n",
        "\n",
        "def train_gru_model():\n",
        "    # Generate synthetic data\n",
        "    data = generate_data(100)\n",
        "    data = [(torch.tensor(x, dtype=torch.float32).unsqueeze(0),\n",
        "             torch.tensor(y, dtype=torch.float32).unsqueeze(0))\n",
        "            for x, y in data]\n",
        "    dataloader = torch.utils.data.DataLoader(data, batch_size=1, shuffle=True)\n",
        "\n",
        "    # Model, loss, optimizer\n",
        "    model = GRUModel(1, 50, 1)\n",
        "    criterion = nn.MSELoss()\n",
        "    optimizer = optim.Adam(model.parameters(), lr=0.001)\n",
        "\n",
        "    # Training loop\n",
        "    for epoch in range(100):\n",
        "        for seq, target in dataloader:\n",
        "            optimizer.zero_grad()\n",
        "            output = model(seq)\n",
        "            loss = criterion(output, target)\n",
        "            loss.backward()\n",
        "            optimizer.step()\n",
        "\n",
        "    print('GRU Model Training Completed')\n",
        "\n",
        "    # Testing the model\n",
        "    test_seq = torch.tensor(np.sin(np.linspace(0, 100, 100)), dtype=torch.float32).unsqueeze(0).unsqueeze(2)\n",
        "    with torch.no_grad():\n",
        "        test_output = model(test_seq)\n",
        "    print(f'GRU Predicted next value: {test_output.item():.4f}')"
      ]
    },
    {
      "cell_type": "code",
      "execution_count": 9,
      "id": "fa414718",
      "metadata": {
        "colab": {
          "base_uri": "https://localhost:8080/"
        },
        "id": "fa414718",
        "outputId": "dee3ac90-4532-45ab-fd83-aa58ca0db8bc"
      },
      "outputs": [
        {
          "output_type": "stream",
          "name": "stdout",
          "text": [
            "GRU Model Training Completed\n",
            "GRU Predicted next value: -0.5642\n"
          ]
        }
      ],
      "source": [
        "train_gru_model()"
      ]
    },
    {
      "cell_type": "markdown",
      "id": "60a3957e",
      "metadata": {
        "id": "60a3957e"
      },
      "source": [
        "# CONVOLUTIONAL NEURAL NETWORKS\n",
        "\n"
      ]
    },
    {
      "cell_type": "markdown",
      "id": "7bf323ad",
      "metadata": {
        "id": "7bf323ad"
      },
      "source": [
        "\n",
        "CNNs are a type of neural network architecture designed for processing structured grid data, such as images. They are particularly effective for tasks involving spatial hierarchies and local dependencies.\n",
        "\n",
        "#### How CNNs Work:\n",
        "CNNs consist of multiple layers, including convolutional layers, pooling layers, and fully connected layers:\n",
        "\n",
        "1. **Conv2D Block**: A convolutional layer that applies a set of learnable filters to the input image. Each filter slides over the image, performing element-wise multiplications and summing the results to produce a feature map. This operation captures local patterns such as edges, textures, and shapes.\n",
        "2. **MaxPooling**: A pooling layer that reduces the spatial dimensions of the feature maps, retaining the most important information. MaxPooling typically takes the maximum value from a small window (e.g., 2x2) and helps in reducing the computational complexity and controlling overfitting.\n",
        "3. **Fully Connected Layers**: Layers where each neuron is connected to every neuron in the previous layer. These layers are typically used at the end of the network to perform classification or regression based on the features extracted by the convolutional and pooling layers.\n",
        "\n",
        "#### Example of Use Cases:\n",
        "CNNs are widely used in various image and video processing tasks. Some common use cases include:\n",
        "- **Image Classification**: Recognizing objects and scenes in images, such as identifying animals, vehicles, or faces.\n",
        "- **Object Detection**: Detecting and localizing objects within an image, used in applications like autonomous driving and surveillance.\n",
        "- **Image Segmentation**: Partitioning an image into regions or objects, used in medical imaging and autonomous driving.\n",
        "- **Video Analysis**: Understanding sequences of video frames for tasks such as activity recognition, video captioning, and video classification.\n"
      ]
    },
    {
      "cell_type": "code",
      "execution_count": 10,
      "id": "66b6fb3a",
      "metadata": {
        "id": "66b6fb3a"
      },
      "outputs": [],
      "source": [
        "#Sample code snippet using torchvision dataset\n",
        "class CNNModel(nn.Module):\n",
        "    def __init__(self):\n",
        "        super(CNNModel, self).__init__()\n",
        "        self.conv1 = nn.Conv2d(1, 16, kernel_size=3, padding=1)\n",
        "        self.conv2 = nn.Conv2d(16, 32, kernel_size=3, padding=1)\n",
        "        self.pool = nn.MaxPool2d(2, 2)\n",
        "        self.fc1 = nn.Linear(32 * 7 * 7, 128)\n",
        "        self.fc2 = nn.Linear(128, 10)\n",
        "\n",
        "    def forward(self, x):\n",
        "        x = self.pool(torch.relu(self.conv1(x)))\n",
        "        x = self.pool(torch.relu(self.conv2(x)))\n",
        "        x = x.view(-1, 32 * 7 * 7)\n",
        "        x = torch.relu(self.fc1(x))\n",
        "        x = self.fc2(x)\n",
        "        return x\n",
        "\n",
        "def train_cnn_model():\n",
        "    # Use MNIST dataset for image classification\n",
        "    from torchvision import datasets, transforms\n",
        "\n",
        "    transform = transforms.Compose([transforms.ToTensor(), transforms.Normalize((0.5,), (0.5,))])\n",
        "    trainset = datasets.MNIST(root='./data', train=True, download=True, transform=transform)\n",
        "    trainloader = torch.utils.data.DataLoader(trainset, batch_size=64, shuffle=True)\n",
        "\n",
        "    # Model, loss, optimizer\n",
        "    model = CNNModel()\n",
        "    criterion = nn.CrossEntropyLoss()\n",
        "    optimizer = optim.Adam(model.parameters(), lr=0.001)\n",
        "\n",
        "    # Training loop\n",
        "    for epoch in range(5):\n",
        "        running_loss = 0.0\n",
        "        for images, labels in trainloader:\n",
        "            optimizer.zero_grad()\n",
        "            outputs = model(images)\n",
        "            loss = criterion(outputs, labels)\n",
        "            loss.backward()\n",
        "            optimizer.step()\n",
        "            running_loss += loss.item()\n",
        "        print(f'Epoch [{epoch+1}/5], Loss: {running_loss/len(trainloader):.4f}')\n",
        "\n",
        "    print('CNN Model Training Completed')"
      ]
    },
    {
      "cell_type": "code",
      "source": [
        "train_cnn_model()"
      ],
      "metadata": {
        "id": "EgwpjZmyvsKN"
      },
      "id": "EgwpjZmyvsKN",
      "execution_count": 34,
      "outputs": []
    },
    {
      "cell_type": "code",
      "source": [
        "!pip install torchvision"
      ],
      "metadata": {
        "id": "ae9w7X-msvMW"
      },
      "id": "ae9w7X-msvMW",
      "execution_count": null,
      "outputs": []
    },
    {
      "cell_type": "code",
      "source": [
        "from torchvision import datasets"
      ],
      "metadata": {
        "id": "UmdLsyIos_0T"
      },
      "id": "UmdLsyIos_0T",
      "execution_count": null,
      "outputs": []
    },
    {
      "cell_type": "code",
      "source": [
        "train_cnn_model()"
      ],
      "metadata": {
        "id": "pJW_wQGHtptg"
      },
      "id": "pJW_wQGHtptg",
      "execution_count": null,
      "outputs": []
    },
    {
      "cell_type": "code",
      "source": [],
      "metadata": {
        "id": "39ty8adfuJPN"
      },
      "id": "39ty8adfuJPN",
      "execution_count": null,
      "outputs": []
    }
  ],
  "metadata": {
    "kernelspec": {
      "display_name": "Python 3 (ipykernel)",
      "language": "python",
      "name": "python3"
    },
    "language_info": {
      "codemirror_mode": {
        "name": "ipython",
        "version": 3
      },
      "file_extension": ".py",
      "mimetype": "text/x-python",
      "name": "python",
      "nbconvert_exporter": "python",
      "pygments_lexer": "ipython3",
      "version": "3.9.13"
    },
    "colab": {
      "provenance": []
    }
  },
  "nbformat": 4,
  "nbformat_minor": 5
}